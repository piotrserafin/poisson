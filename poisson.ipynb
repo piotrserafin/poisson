{
 "cells": [
  {
   "cell_type": "markdown",
   "metadata": {},
   "source": [
    "# Wizualizacja poissonowskiego strumienia zgłoszeń"
   ]
  },
  {
   "cell_type": "markdown",
   "metadata": {},
   "source": [
    "## Piotr Serafin 132821"
   ]
  },
  {
   "cell_type": "markdown",
   "metadata": {},
   "source": [
    "## Rozkład Poissona"
   ]
  },
  {
   "cell_type": "code",
   "execution_count": 4,
   "metadata": {},
   "outputs": [],
   "source": [
    "# Import bibliotek\n",
    "import numpy as np\n",
    "import matplotlib.pyplot as plt"
   ]
  },
  {
   "cell_type": "markdown",
   "metadata": {},
   "source": [
    "Dyskretny rozkład prawdopodobieństwa, wyrażający prawdopodobieństwo szeregu wydarzeń mających miejsce w określonym czasie, gdy te wydarzenia występują ze znaną średnią częstotliwością i w sposób niezależny od czasu jaki upłynął od ostatniego zajścia takiego zdarzenia. Rozkład Poissona można również stosować w odniesieniu do liczby zdarzeń w innych określonych przedziałach, takich jak odległość, powierzchnia lub objętość. Jeśli oczekiwaną liczbą zdarzeń w tym przedziale jest λ, to prawdopodobieństwo, że jest dokładnie k wystąpień jest równe:\n",
    "\n",
    "$$f(k,\\lambda) = \\frac{\\lambda^k e^{-\\lambda}}{k !}$$\n",
    "\n",
    "gdzie:\n",
    "\n",
    "* $\\lambda$ jest dodatnią liczbą rzeczywistą, równą oczekiwanej liczbie zdarzeń w danym przedziale czasu\n",
    "* k jest liczbą wystąpień zdarzenia\n",
    "\n",
    "Rozkład Poissona powstaje w związku z procesami Poissona. Ma on zastosowanie do różnych zjawisk dyskretnych właściwości, gdy prawdopodobieństwo wystąpienia zjawiska jest stałe w czasie lub przestrzeni. Zwykłym zastosowaniem rozkładu Poissona jest prognozowanie liczby zdarzeń w danym czasie. Przykłady, które mogą być modelowane rozkładem Poissona to:\n",
    "Liczba połączeń telefonów przychodzących do centrali na minutę.\n",
    "Przy założeniu jednorodności, ile razy serwer jest dostępny na minutę."
   ]
  },
  {
   "cell_type": "markdown",
   "metadata": {},
   "source": [
    "## Strumień zgłoszeń\n",
    "\n",
    "Strumień zgłoszeń opisany jest w pełni przez zbiór reguł określających jednoznacznie proces napływu zgłoszeń do systemu obsługi\n",
    "w określonym przedziale czasu (statystyczny opis procesu przybywania zgłoszeń do systemu obsługi).\n",
    "\n",
    "### Strumień zgłoszeń jest:\n",
    "\n",
    "- Regularny jeśli tworzące go zdarzenia pojawiają się w zdeterminowanych przedziałach czasu\n",
    "- Stochastyczny jeśli tworzące go zdarzenia pojawiają się losowo\n",
    "- Jednorodny – charakteryzuje go zawsze jedna cecha\n",
    "- Niejednorodny – każde zgłoszenie ma co najmniej dwie cechy (jedną z nich jest zawsze czas napływu zgłoszenia)\n",
    "\n",
    "Strumień ruchu opisany rozkładem Poissona jest przypadkiem strumienia prostego.\n",
    "\n",
    "### Cechy strumienia prostego:\n",
    "\n",
    "- Stacjonarność – prawdopodobieństwo pojawienia się pewnej liczby zgłoszeń w przedziale czasu zależy od długości tego przedziału, a nie jego położenia na osi czasu\n",
    "- Brak pamięci - dla dowolnych rozłącznych przedziałów czasu liczba zgłoszeń zachodzących w jednym z nich nie zależy od liczby zgłoszeń zachodzących w pozostałych przedziałach\n",
    "- Pojedynczość – dwa lub więcej zgłoszeń nie mogą się pojawić w tym samym czasie\n",
    "\n",
    "Rozkład Poissona bardzo dobrze opisuje jeden strumień zgłoszeń generowany przez bardzo dużą liczbę źródeł ruchu, teoretycznie nieskończenie dużą\n",
    "\n",
    "Prawdopodobieństwo napływu k zgłoszeń w przedziale czasu t przy intensywności zgłoszeń $\\lambda$:\n",
    "\n",
    "$$P(t) = \\frac{(\\lambda t)^k e^{-\\lambda t}} {k !}$$\n"
   ]
  },
  {
   "cell_type": "markdown",
   "metadata": {},
   "source": [
    "## Generowanie strumienia zgłoszeń\n",
    "\n",
    "Strumień zdarzeń o rozkładzie Poissona charakteryzuje się wykładniczym rozkładem długości odstępów czasu między zdarzeniami. Jeżeli założymy, że $1200$ połączeń wykonywanych jest w ciągu dnia, to średnio $\\frac{1200}{24} = 50$ połączenień wykonywanych jest w ciągu godziny. Z tego wynika, że co $\\lambda = 72$ sekundy napływa zgłoszenie. Mając te dane, możemy zadać sobie pytanie: \n",
    "\n",
    "Jakie jest prawdopodobieństwo, żę w ciągu następnych 20 sekund pojawi się zgłoszenie?\n",
    "\n",
    "Na to pytanie odpowiada dystrybuanta rozkładu wykładniczego przedstawiona poniżej."
   ]
  },
  {
   "cell_type": "markdown",
   "metadata": {},
   "source": [
    "## Generownie czasu zgłoszeń\n",
    "\n",
    "Następnym krokiem w symulacji jest wygenerowanie czasu pojawienia się zgłoszenia w systemie. Czas ten powinien zgadzać się z rozkładem wykładniczym długości odstępów czasu między zdarzeniami. Aby to zrobić, użyjemy generatora liczb pseudolosowych między 0 i 1. Należy znaleźć funkcję odwrotną do funkcji dystrybuanty rozkładu wykładniczego:\n",
    "\n",
    "\n",
    "$$F(x) = 1 - e^{-\\lambda x}$$\n",
    "$$e^{-\\lambda x} = 1 - F(x)$$\n",
    "$$-\\lambda x = \\ln (1-F(x))$$\n",
    "$$x = \\frac{-\\ln(1-F(x))}{\\lambda}$$\n",
    "\n",
    "$$nastepnyCzas = \\frac{-\\ln U}{\\lambda}$$\n",
    "\n",
    "Gdzie U to liczba pseudolosowa z zakresu $[0,1)$\n",
    "\n",
    "### Prawdopodobieństwo wystąpienia k żądań w odcinku czasu [0, t]\n",
    "\n",
    "Ostatnim krokiem symulacji jest wyliczenie prawdopodobieństwa napływu k zgłoszeń w wygenerowanych przedziałach.\n",
    "Korzystamy z ze wzoru definiującego rozkład Poissona. Prawdopodobieństwo napływu k zgłoszeń w przedziale czasu t przy intensywności zgłoszeń\n",
    "\n",
    "$$P(t) = \\frac{(\\lambda t)^k e^{-\\lambda t}} {k !}$$\n",
    "\n"
   ]
  }
 ],
 "metadata": {
  "kernelspec": {
   "display_name": "Python 3",
   "language": "python",
   "name": "python3"
  },
  "language_info": {
   "codemirror_mode": {
    "name": "ipython",
    "version": 3
   },
   "file_extension": ".py",
   "mimetype": "text/x-python",
   "name": "python",
   "nbconvert_exporter": "python",
   "pygments_lexer": "ipython3",
   "version": "3.7.0"
  }
 },
 "nbformat": 4,
 "nbformat_minor": 2
}
