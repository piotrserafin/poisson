{
 "cells": [
  {
   "cell_type": "markdown",
   "metadata": {},
   "source": [
    "# Wizualizacja poissonowskiego strumienia zgłoszeń"
   ]
  },
  {
   "cell_type": "markdown",
   "metadata": {},
   "source": [
    "## Piotr Serafin 132821"
   ]
  },
  {
   "cell_type": "markdown",
   "metadata": {},
   "source": [
    "## Rozkład Poissona"
   ]
  },
  {
   "cell_type": "markdown",
   "metadata": {},
   "source": [
    "Dyskretny rozkład prawdopodobieństwa, wyrażający prawdopodobieństwo szeregu wydarzeń mających miejsce w określonym czasie, gdy te wydarzenia występują ze znaną średnią częstotliwością i w sposób niezależny od czasu jaki upłynął od ostatniego zajścia takiego zdarzenia. Rozkład Poissona można również stosować w odniesieniu do liczby zdarzeń w innych określonych przedziałach, takich jak odległość, powierzchnia lub objętość. \n",
    "\n",
    "Jeśli oczekiwaną liczbą zdarzeń w tym przedziale jest λ, to prawdopodobieństwo, że jest dokładnie k wystąpień jest równe:\n",
    "\n",
    "$$f(k,\\lambda) = \\frac{\\lambda^k e^{-\\lambda}}{k !}$$\n",
    "\n",
    "gdzie:\n",
    "\n",
    "* $\\lambda$ jest dodatnią liczbą rzeczywistą, równą oczekiwanej liczbie zdarzeń w danym przedziale czasu\n",
    "* k jest liczbą wystąpień zdarzenia\n",
    "\n",
    "Rozkład Poissona powstaje w związku z procesami Poissona. Ma on zastosowanie do różnych zjawisk dyskretnych właściwości, gdy prawdopodobieństwo wystąpienia zjawiska jest stałe w czasie lub przestrzeni. Zwykłym zastosowaniem rozkładu Poissona jest prognozowanie liczby zdarzeń w danym czasie [1]."
   ]
  },
  {
   "cell_type": "code",
   "execution_count": null,
   "metadata": {},
   "outputs": [],
   "source": [
    "# Import bibliotek\n",
    "import math\n",
    "import numpy as np\n",
    "import matplotlib.pyplot as plt\n",
    "from scipy.stats import poisson\n",
    "\n",
    "# Widgets\n",
    "import ipywidgets as widgets\n",
    "from IPython.display import display\n",
    "\n",
    "%matplotlib inline\n",
    "\n",
    "# Zmiana domyślnej wielkości wykreów - aspect ratio 5:3\n",
    "plt.rcParams['figure.figsize'] = (15, 9)"
   ]
  },
  {
   "cell_type": "code",
   "execution_count": null,
   "metadata": {},
   "outputs": [],
   "source": [
    "# Funkcja zwracająca tablcę prawdopodobieństw dla zadanych parametrów k\n",
    "# Suma prawdopodobieństw wynosi 1 (Funkcja masy prawdopodobieństw) (PMF)\n",
    "def poisson_distribution_pmf(K, mu, t = 1):\n",
    "    return np.array([poisson_distribution(k, mu, t) for k in np.nditer(K)])\n",
    "\n",
    "# Funkcja rozkładu prawdopodobieństwa (PDF)\n",
    "def poisson_distribution(k, mu, t = 1):\n",
    "    return math.pow(mu * t, k) * math.exp(-mu * t) / math.factorial(k)\n"
   ]
  },
  {
   "cell_type": "code",
   "execution_count": null,
   "metadata": {},
   "outputs": [],
   "source": [
    "# Tablica parametrów k 0..20\n",
    "K = np.arange(0, 20, 1)[:, None]\n",
    "\n",
    "# Tablica dla różnych wartości parametru lambda 0..10\n",
    "lamb_array = np.arange(0, 10, 1)[:, None]\n",
    "\n",
    "# Macierz prawdopodobieństw dla wszystkich kombinacji k, lambda\n",
    "poisson_array = np.array([poisson_distribution_pmf(K, lamb) for lamb in lamb_array]).reshape(lamb_array.shape[0], K.shape[0])\n",
    "\n",
    "# Alternatywnie funkcja pmf z biblioteki scipy: \n",
    "# pmf_array = np.array([poisson(mu).pmf(K) for mu in mu_array]).reshape(mu_array.shape[0], K.shape[0])\n",
    "\n",
    "# Tablica przykładowych wartości lambdy dla których chcemy wyświetlić wykres\n",
    "lamb_to_plot_array = [0,1,3,5,8]\n",
    "\n",
    "# Dla wybranych wartości z lamb_to_plot_array rysuj przebieg\n",
    "for mu in mu_plot_array:\n",
    "    plt.plot(K, poisson_array[mu, :], '-o', label='$\\lambda = {}$'.format(int(lamb_array[mu])))\n",
    "\n",
    "# Opis wykresu\n",
    "plt.title('Funkcja rozkładu Poissona dla $\\lambda$ = {}'.format(lamb_to_plot_array))\n",
    "plt.ylabel('$f(k,\\lambda)$')\n",
    "plt.xlabel('$k$')\n",
    "plt.legend()\n",
    "plt.show()"
   ]
  },
  {
   "cell_type": "markdown",
   "metadata": {},
   "source": [
    "## Strumień zgłoszeń Poissona\n",
    "\n",
    "Strumień zgłoszeń opisany jest w pełni przez zbiór reguł określających jednoznacznie proces napływu zgłoszeń do systemu obsługi w określonym przedziale czasu (statystyczny opis procesu przybywania zgłoszeń do systemu obsługi) [2].\n",
    "\n",
    "### Klasyfikacja strumieni zgłoszeń\n",
    "\n",
    "- regularny jeśli tworzące go zdarzenia pojawiają się w zdeterminowanych przedziałach czasu\n",
    "- stochastyczny jeśli tworzące go zdarzenia pojawiają się losowo\n",
    "- jednorodny – charakteryzuje go zawsze jedna cecha\n",
    "- niejednorodny – każde zgłoszenie ma co najmniej dwie cechy (jedną z nich jest zawsze czas napływu zgłoszenia)\n",
    "\n",
    "Strumień ruchu opisany rozkładem Poissona jest przypadkiem strumienia prostego [2].\n",
    "\n",
    "### Cechy strumienia prostego:\n",
    "\n",
    "- Stacjonarność – prawdopodobieństwo pojawienia się pewnej liczby zgłoszeń w przedziale czasu zależy od długości tego przedziału, a nie jego położenia na osi czasu\n",
    "- Brak pamięci - dla dowolnych rozłącznych przedziałów czasu liczba zgłoszeń zachodzących w jednym z nich nie zależy od liczby zgłoszeń zachodzących w pozostałych przedziałach\n",
    "- Pojedynczość – dwa lub więcej zgłoszeń nie mogą się pojawić w tym samym czasie\n",
    "\n",
    "Rozkład Poissona bardzo dobrze opisuje jeden strumień zgłoszeń generowany przez bardzo dużą liczbę źródeł ruchu, teoretycznie nieskończenie dużą\n",
    "\n",
    "Prawdopodobieństwo napływu k zgłoszeń w przedziale czasu t przy intensywności zgłoszeń $\\lambda$ [2]:\n",
    "\n",
    "$$P_k(t) = \\frac{(\\lambda_i t)^k e^{-\\lambda t}} {k !}$$"
   ]
  },
  {
   "cell_type": "markdown",
   "metadata": {},
   "source": [
    "## Generowanie strumienia zgłoszeń\n",
    "\n",
    "Strumień zdarzeń o rozkładzie Poissona charakteryzuje się wykładniczym rozkładem długości odstępów czasu między zdarzeniami. Jeżeli założymy, że 2400 połączeń wykonywanych jest w ciągu dnia, to średnio $\\frac{2400}{24} = 100$ połączenień wykonywanych jest w ciągu godziny. Z tego wynika, że co $\\lambda = 72$ sekundy napływa zgłoszenie. Mając te dane, możemy zadać sobie pytanie: \n",
    "\n",
    "Jakie jest prawdopodobieństwo, żę w ciągu następnych 20 sekund pojawi się zgłoszenie?\n",
    "\n",
    "Na to pytanie odpowiada dystrybuanta rozkładu wykładniczego przedstawiona poniżej."
   ]
  },
  {
   "cell_type": "code",
   "execution_count": null,
   "metadata": {},
   "outputs": [],
   "source": [
    "# Funkcja rozkładu prawdopodobieństwa. Dystrybuanta. (CDF)\n",
    "def cummulative_distribution(mu, t = 1):\n",
    "    return (1 - math.exp(-mu * t))"
   ]
  },
  {
   "cell_type": "code",
   "execution_count": null,
   "metadata": {},
   "outputs": [],
   "source": [
    "# Okno 10 minut (600s)\n",
    "t_array = np.arange(0, 600, 1)\n",
    "\n",
    "lamb = 0\n",
    "\n",
    "style = {'description_width': 'initial'}\n",
    "layout = Layout( width='auto')\n",
    "# Intensywność\n",
    "intensity = widgets.IntText(min=100, max=2400, value=1200, step=10, \n",
    "                            continous_update=False, description='Intensywność:',\n",
    "                            style=style)\n",
    "\n",
    "def update_cdf_plot(intensity):  \n",
    "    \n",
    "    # Lambda/s\n",
    "    global lamb \n",
    "    lamb = ((intensity/24)/60/60)\n",
    "\n",
    "    cdf_array = np.array([cummulative_distribution(lamb, t) for t in t_array])\n",
    "\n",
    "    plt.plot(t_array, cdf_array, '-o', label='Intensywność {} [zgł/dzień]'.format(float(intensity)))\n",
    "\n",
    "    #plt.figure(figsize=(15,9))\n",
    "    plt.title('Dystrybuanta rozkładu wykładniczego')\n",
    "    plt.ylabel('Prawdopodobieństwo P(t)')\n",
    "    plt.xlabel('Czas [s]')\n",
    "    plt.legend()\n",
    "    plt.show()\n",
    "\n",
    "widgets.interactive(update_cdf_plot, intensity=intensity)"
   ]
  },
  {
   "cell_type": "markdown",
   "metadata": {},
   "source": [
    "## Generownie czasu zgłoszeń\n",
    "\n",
    "Następnym krokiem w symulacji jest wygenerowanie czasu pojawienia się zgłoszenia w systemie. Czas ten powinien zgadzać się z rozkładem wykładniczym długości odstępów czasu między zdarzeniami. Aby to zrobić, użyjemy generatora liczb pseudolosowych między 0 i 1. Należy znaleźć funkcję odwrotną do funkcji dystrybuanty rozkładu wykładniczego:\n",
    "\n",
    "Na podstawie powższego wzoru prawdopodobieństwo, że w czasie t nie pojawiło się żadne zgłoszenie, jest równe\n",
    "\n",
    "$$P_0(t) = e^{-\\lambda t}$$\n",
    "\n",
    "prawdopodobieństwo pojawienia się jednego zgłoszenia w czasie t wynosi:\n",
    "\n",
    "$$P_1(t) = \\lambda t e^{-\\lambda t}$$\n",
    "\n",
    "Prawdopodobieństwa te zależne są od długości przedziału czasu t. Nie zależą one od czasu pojawienia się poprzedniego zgłoszenia. Na podstawie wzorów na $P_0(t)$ i $P_1(t)$, można obliczyć dystrybuantę $F(t)$ pomiędzy kolejnymi zgłoszeniami, która określa prawdopodobieństwo, że czas pomiędzy zgłoszeniami T będzie krótszy od zadanego czasu t. Prawdopodobieństwo takie jest równoważne prawdopodobieństwu, że w czasie t pojawi się jedno lub więcej zgłoszeń klasy:\n",
    "\n",
    "$$F(t) = \\sum_{n=1}^{\\infty}P_n(t) = 1 - P_0(t) = 1 - e^{-\\lambda t}$$\n",
    "\n",
    "Na podstawie dystrybuanty $F(t)$ można zamienić próbki z generatora o rozkładzie równomiernym na próbki o rozkładzie opisanym przez dystrybuantę $F(t)$. W tym celu próbki otrzymane z rozkładu równomiernego o przedziale od 0 do 1 oznaczone jako $U$ należy podstawić do funkcji dystrybuanty:\n",
    "\n",
    "$$F(t) = U$$\n",
    "\n",
    "Powyższy wzór można tak przekształcić, by na podstawie znajomości funkcji $F(t)$ rozkładu Poissona obliczyć $t$, które jest próbką z generatora losowegoo rozkładzie Poissona [3]:\n",
    "\n",
    "$$F(t) = 1 - e^{-\\lambda t}$$\n",
    "$$e^{-\\lambda t} = 1 - F(t)$$\n",
    "$$-\\lambda t = \\ln (1-F(t))$$\n",
    "$$t = \\frac{-\\ln(1-F(t))}{\\lambda}$$\n",
    "\n",
    "$$t = \\frac{-\\ln U}{\\lambda}$$\n",
    "\n",
    "Gdzie $U$ to liczba pseudolosowa z zakresu $[0,1)$"
   ]
  },
  {
   "cell_type": "code",
   "execution_count": null,
   "metadata": {},
   "outputs": [],
   "source": [
    "def inverse_cummulative_distribution(probability, mu):\n",
    "    return (-math.log(1 - probability)/mu)"
   ]
  },
  {
   "cell_type": "code",
   "execution_count": null,
   "metadata": {},
   "outputs": [],
   "source": [
    "prob_array = np.arange(0, 1, 0.01)\n",
    "\n",
    "def update_icdf_plot(intensity):  \n",
    "\n",
    "    icdf_array = np.array([inverse_cummulative_distribution(p,lamb) for p in prob_array])\n",
    "\n",
    "    plt.plot(prob_array, icdf_array, '-o', label='Intensywność {} [zgł/dzień]'.format(int(intensity)))\n",
    "\n",
    "    plt.title('Dystrybuanta rozkładu wykładniczego')\n",
    "    plt.ylabel('Czas [s]')\n",
    "    plt.xlabel('Prawdopodobieństwo P(t)')\n",
    "    plt.legend()\n",
    "    plt.show()\n",
    "\n",
    "\n",
    "widgets.interactive(update_icdf_plot, intensity=intensity)"
   ]
  },
  {
   "cell_type": "code",
   "execution_count": null,
   "metadata": {},
   "outputs": [],
   "source": [
    "moments_arrival_time = [0]\n",
    "time_differences = []\n",
    "indexes = np.arange(1, 101, 1)\n",
    "\n",
    "for i in indexes:\n",
    "    # Zwraca pseudo losową liczbę z przedziału [0.0, 1.0)\n",
    "    random_num = np.random.random()\n",
    "    time_difference = inverse_cummulative_distribution(random_num, lamb)\n",
    "    moments_arrival_time.append(time_difference + moments_arrival_time[len(moments_arrival_time) - 1])\n",
    "    time_differences.append(time_difference)   \n",
    "\n",
    "# Remove last moment (out-of-range)\n",
    "del moments_arrival_time[-1]\n",
    "\n",
    "plt.bar(indexes, moments_arrival_time, label='Intensywność {} [zgł/dzień]'.format(int(intensity.get_interact_value())))\n",
    "plt.title('Wygenerowane momenty zgłoszeń')\n",
    "plt.ylabel('Czas przybycia [s]')\n",
    "plt.xlabel('n')\n",
    "plt.legend()\n",
    "plt.show()"
   ]
  },
  {
   "cell_type": "code",
   "execution_count": null,
   "metadata": {},
   "outputs": [],
   "source": [
    "plt.bar(indexes, time_differences, label='Intensywność {} [zgł/dzień]'.format(int(intensity.get_interact_value())))\n",
    "plt.title('Odcinki czasu między momentami')\n",
    "plt.ylabel('Czas pomiędzy zgłoszeniami [s]')\n",
    "plt.xlabel('n')\n",
    "plt.legend()\n",
    "plt.show()"
   ]
  },
  {
   "cell_type": "markdown",
   "metadata": {},
   "source": [
    "### Prawdopodobieństwo wystąpienia k żądań w odcinku czasu [0, t]\n",
    "\n",
    "Ostatnim krokiem symulacji jest wyliczenie prawdopodobieństwa napływu k zgłoszeń w wygenerowanych przedziałach.\n",
    "Korzystamy z ze wzoru definiującego rozkład Poissona. Prawdopodobieństwo napływu k zgłoszeń w przedziale czasu t przy intensywności zgłoszeń $\\lambda$ [4]\n",
    "\n",
    "$$P(t) = \\frac{(\\lambda t)^k e^{-\\lambda t}} {k !}$$"
   ]
  },
  {
   "cell_type": "code",
   "execution_count": null,
   "metadata": {},
   "outputs": [],
   "source": [
    "k_calls_array = np.arange(0,5,1)[:, None]\n",
    "\n",
    "final_array = np.array([poisson_distribution_pmf(k_calls_array, lamb, t) for t in t_array])\n",
    "\n",
    "for k in k_calls_array:\n",
    "    plt.plot(t_array, final_array[:, k], '-.',label='k = {}'.format(int(k_calls_array[k])))\n",
    "\n",
    "plt.title('Prawdopodobieństwo wystąpienia k żądań w odcinku czasu (0, T] przy intensywności {} [zgł/dzień]'\n",
    "          .format(int(intensity.get_interact_value())))\n",
    "plt.ylabel('Prawdopodobieństwo P(t)')\n",
    "plt.xlabel('Czas trwania [s]')\n",
    "plt.legend()\n",
    "plt.show()"
   ]
  },
  {
   "cell_type": "markdown",
   "metadata": {},
   "source": [
    "## Bibliografia\n",
    "\n",
    "[1]: Rozkład Poissona. (2018, listopad 19). Wikipedia, wolna encyklopedia. Dostęp 16:20, listopad 23, 2018,  \n",
    "Dostępny w Internecie: http://pl.wikipedia.org/w/index.php?title=Rozk%C5%82ad_Poissona&oldid=55076364 \n",
    "\n",
    "[2]: Klink, J. (2011). Inżynieria ruchu (telekomunikacyjnego) [Slajdy PDF].  \n",
    "Dostępny w Internecie: https://pst.pwr.edu.pl/moodle/course/view.php?id=82\n",
    "\n",
    "[3]: Kaliszan, A. Głąbowski, M. (2006). Symulator wiązki pełnodostępnej obsługującej zintegrowane nie-poissonowskie strumienie zgłoszeń [PDF].  \n",
    "Dostępny w Internecie: http://www.pwt.et.put.poznan.pl/srv/papers/PWT%202006_3658.pdf\n",
    "\n",
    "[4]: Gulowaty, B. Grądalska, M. (2016). Wizualizacja poissonowskiego strumienia zgłoszeń [NodeJS].  \n",
    "Dostępny w Internecie: https://github.com/bgulowaty/Wizualizacja-poissonowskiego-strumienia-zgloszen"
   ]
  }
 ],
 "metadata": {
  "kernelspec": {
   "display_name": "Python 3",
   "language": "python",
   "name": "python3"
  },
  "language_info": {
   "codemirror_mode": {
    "name": "ipython",
    "version": 3
   },
   "file_extension": ".py",
   "mimetype": "text/x-python",
   "name": "python",
   "nbconvert_exporter": "python",
   "pygments_lexer": "ipython3",
   "version": "3.6.7"
  }
 },
 "nbformat": 4,
 "nbformat_minor": 2
}
