{
 "cells": [
  {
   "cell_type": "markdown",
   "metadata": {},
   "source": [
    "# Wizualizacja poissonowskiego strumienia zgłoszeń"
   ]
  },
  {
   "cell_type": "markdown",
   "metadata": {},
   "source": [
    "## Piotr Serafin 132821"
   ]
  },
  {
   "cell_type": "markdown",
   "metadata": {},
   "source": [
    "## Rozkład Poissona[1]"
   ]
  },
  {
   "cell_type": "markdown",
   "metadata": {},
   "source": [
    "Dyskretny rozkład prawdopodobieństwa, wyrażający prawdopodobieństwo szeregu wydarzeń mających miejsce w określonym czasie, gdy te wydarzenia występują ze znaną średnią częstotliwością i w sposób niezależny od czasu jaki upłynął od ostatniego zajścia takiego zdarzenia. Rozkład Poissona można również stosować w odniesieniu do liczby zdarzeń w innych określonych przedziałach, takich jak odległość, powierzchnia lub objętość. \n",
    "\n",
    "Jeśli oczekiwaną liczbą zdarzeń w tym przedziale jest λ, to prawdopodobieństwo, że jest dokładnie k wystąpień jest równe:\n",
    "\n",
    "$$f(k,\\lambda) = \\frac{\\lambda^k e^{-\\lambda}}{k !}$$\n",
    "\n",
    "gdzie:\n",
    "\n",
    "* $\\lambda$ jest dodatnią liczbą rzeczywistą, równą oczekiwanej liczbie zdarzeń w danym przedziale czasu\n",
    "* k jest liczbą wystąpień zdarzenia\n",
    "\n",
    "Rozkład Poissona powstaje w związku z procesami Poissona. Ma on zastosowanie do różnych zjawisk dyskretnych właściwości, gdy prawdopodobieństwo wystąpienia zjawiska jest stałe w czasie lub przestrzeni. Zwykłym zastosowaniem rozkładu Poissona jest prognozowanie liczby zdarzeń w danym czasie."
   ]
  },
  {
   "cell_type": "code",
   "execution_count": null,
   "metadata": {},
   "outputs": [],
   "source": [
    "# Import bibliotek\n",
    "import math\n",
    "import numpy as np\n",
    "import matplotlib.pyplot as plt\n",
    "from scipy.stats import poisson\n",
    "\n",
    "%matplotlib inline"
   ]
  },
  {
   "cell_type": "code",
   "execution_count": null,
   "metadata": {},
   "outputs": [],
   "source": [
    "# Funkcja zwracająca tablcę prawdopodobieństw dla zadanych parametrów k\n",
    "# Suma prawdopodobieństw wynosi 1 (Funkcja masy prawdopodobieństw)\n",
    "def rozkladPoissonaPmf(K, mu, t = 1):\n",
    "    return np.array([rozkladPoissona(k, mu, t) for k in np.nditer(K)])\n",
    "\n",
    "# Funkcja wyliczająca prawdopodobieństwo naplywu k zgloszen w przedziale czasu t \n",
    "# dla wartości oczekiwanej mu\n",
    "def rozkladPoissona(k, mu, t = 1):\n",
    "    return math.pow(mu * t, k) * math.exp(-mu * t) / math.factorial(k)\n"
   ]
  },
  {
   "cell_type": "code",
   "execution_count": null,
   "metadata": {
    "scrolled": false
   },
   "outputs": [],
   "source": [
    "# Tablica parametrów k 0..20\n",
    "K = np.arange(0, 20, 1)[:, None]\n",
    "\n",
    "# Tablica dla różnych wartości parametru lambda 0..10\n",
    "mu_array = np.arange(0, 10, 1)[:, None]\n",
    "\n",
    "# Macierz prawdopodobieństw dla wszystkich kombinacji k, mu\n",
    "pmf_array = np.array([rozkladPoissonaPmf(K, mu) for mu in mu_array]).reshape(mu_array.shape[0], K.shape[0])\n",
    "\n",
    "# Alternatywnie funkcja pmf z biblioteki scipy: \n",
    "# pmf_array = np.array([poisson(mu).pmf(K) for mu in mu_array]).reshape(mu_array.shape[0], K.shape[0])\n",
    "\n",
    "# Tablica przykładowych wartości lambdy\n",
    "mu_plot_array = [0,1,3,5,8]\n",
    "\n",
    "# Zmiana domyślnej wielkości wykresu - aspect ratio 5:3\n",
    "plt.rcParams['figure.figsize'] = (15, 9)\n",
    "\n",
    "for mu in mu_plot_array:\n",
    "    plt.plot(K, pmf_array[mu, :], '-o', label='$\\lambda = {}$'.format(int(mu_array[mu])))\n",
    "\n",
    "# Opis wykresu\n",
    "plt.title('Funkcja rozkładu Poissona dla $\\lambda$ = {}'.format(mu_plot_array))\n",
    "plt.ylabel('$f(k,\\lambda)$')\n",
    "plt.xlabel('$k$')\n",
    "plt.legend()\n",
    "plt.show()"
   ]
  },
  {
   "cell_type": "markdown",
   "metadata": {},
   "source": [
    "## Strumień zgłoszeń[2]\n",
    "\n",
    "Strumień zgłoszeń opisany jest w pełni przez zbiór reguł określających jednoznacznie proces napływu zgłoszeń do systemu obsługi w określonym przedziale czasu (statystyczny opis procesu przybywania zgłoszeń do systemu obsługi).\n",
    "\n",
    "### Klasyfikacja strumieni zgłoszeń\n",
    "\n",
    "- regularny jeśli tworzące go zdarzenia pojawiają się w zdeterminowanych przedziałach czasu\n",
    "- stochastyczny jeśli tworzące go zdarzenia pojawiają się losowo\n",
    "- jednorodny – charakteryzuje go zawsze jedna cecha\n",
    "- niejednorodny – każde zgłoszenie ma co najmniej dwie cechy (jedną z nich jest zawsze czas napływu zgłoszenia)\n",
    "\n",
    "Strumień ruchu opisany rozkładem Poissona jest przypadkiem strumienia prostego.\n",
    "\n",
    "### Cechy strumienia prostego:\n",
    "\n",
    "- Stacjonarność – prawdopodobieństwo pojawienia się pewnej liczby zgłoszeń w przedziale czasu zależy od długości tego przedziału, a nie jego położenia na osi czasu\n",
    "- Brak pamięci - dla dowolnych rozłącznych przedziałów czasu liczba zgłoszeń zachodzących w jednym z nich nie zależy od liczby zgłoszeń zachodzących w pozostałych przedziałach\n",
    "- Pojedynczość – dwa lub więcej zgłoszeń nie mogą się pojawić w tym samym czasie\n",
    "\n",
    "Rozkład Poissona bardzo dobrze opisuje jeden strumień zgłoszeń generowany przez bardzo dużą liczbę źródeł ruchu, teoretycznie nieskończenie dużą\n",
    "\n",
    "Prawdopodobieństwo napływu k zgłoszeń w przedziale czasu t przy intensywności zgłoszeń $\\lambda$:\n",
    "\n",
    "$$P(t) = \\frac{(\\lambda t)^k e^{-\\lambda t}} {k !}$$\n"
   ]
  },
  {
   "cell_type": "markdown",
   "metadata": {},
   "source": [
    "## Generowanie strumienia zgłoszeń\n",
    "\n",
    "Strumień zdarzeń o rozkładzie Poissona charakteryzuje się wykładniczym rozkładem długości odstępów czasu między zdarzeniami. Jeżeli założymy, że 2400 połączeń wykonywanych jest w ciągu dnia, to średnio $\\frac{2400}{24} = 100$ połączenień wykonywanych jest w ciągu godziny. Z tego wynika, że co $\\lambda = 72$ sekundy napływa zgłoszenie. Mając te dane, możemy zadać sobie pytanie: \n",
    "\n",
    "Jakie jest prawdopodobieństwo, żę w ciągu następnych 20 sekund pojawi się zgłoszenie?\n",
    "\n",
    "Na to pytanie odpowiada dystrybuanta rozkładu wykładniczego przedstawiona poniżej."
   ]
  },
  {
   "cell_type": "code",
   "execution_count": null,
   "metadata": {},
   "outputs": [],
   "source": [
    "def dystrybuantaRozkladuWykladniczego(mu, t = 1):\n",
    "    return (1 - Math.exp(-mu * t))\n",
    "\n",
    "def funkcjaOdwrotnaDystrybuanyRozkladuWykladniczego(probability, mu):\n",
    "    return (-Math.log(1 - probability)/mu)\n"
   ]
  },
  {
   "cell_type": "code",
   "execution_count": null,
   "metadata": {},
   "outputs": [],
   "source": [
    "# Dystrybuanta rozkładu wykładniczego\n",
    "T = np.arange(0, 360, 1)[:, None]\n",
    "cdf_array = np.array([poisson.cdf(K, mu) for mu in mu_array]).reshape(mu_array.shape[0], K.shape[0])\n",
    "\n",
    "for mu in mu_plot_array:\n",
    "    plt.plot(K, cdf_array[mu, :], '-o', label='$\\lambda = {}$'.format(int(mu_array[mu])))\n",
    "\n",
    "plt.title('Dystrybuanta rozkładu wykładniczego dla $\\lambda$ = {}'.format(mu_plot_array))\n",
    "plt.ylabel('Prawdopodobieństwo')\n",
    "plt.xlabel('Czas')\n",
    "plt.legend()\n",
    "plt.show()"
   ]
  },
  {
   "cell_type": "markdown",
   "metadata": {},
   "source": [
    "## Generownie czasu zgłoszeń\n",
    "\n",
    "Następnym krokiem w symulacji jest wygenerowanie czasu pojawienia się zgłoszenia w systemie. Czas ten powinien zgadzać się z rozkładem wykładniczym długości odstępów czasu między zdarzeniami. Aby to zrobić, użyjemy generatora liczb pseudolosowych między 0 i 1. Należy znaleźć funkcję odwrotną do funkcji dystrybuanty rozkładu wykładniczego:\n",
    "\n",
    "\n",
    "$$F(x) = 1 - e^{-\\lambda x}$$\n",
    "$$e^{-\\lambda x} = 1 - F(x)$$\n",
    "$$-\\lambda x = \\ln (1-F(x))$$\n",
    "$$x = \\frac{-\\ln(1-F(x))}{\\lambda}$$\n",
    "\n",
    "$$nastepnyCzas = \\frac{-\\ln U}{\\lambda}$$\n",
    "\n",
    "Gdzie U to liczba pseudolosowa z zakresu $[0,1)$\n",
    "\n",
    "### Prawdopodobieństwo wystąpienia k żądań w odcinku czasu [0, t]\n",
    "\n",
    "Ostatnim krokiem symulacji jest wyliczenie prawdopodobieństwa napływu k zgłoszeń w wygenerowanych przedziałach.\n",
    "Korzystamy z ze wzoru definiującego rozkład Poissona. Prawdopodobieństwo napływu k zgłoszeń w przedziale czasu t przy intensywności zgłoszeń\n",
    "\n",
    "$$P(t) = \\frac{(\\lambda t)^k e^{-\\lambda t}} {k !}$$\n",
    "\n"
   ]
  },
  {
   "cell_type": "markdown",
   "metadata": {},
   "source": [
    "## Bibliografia\n",
    "\n",
    "[1]: Rozkład Poissona. (2018, listopad 19). Wikipedia, wolna encyklopedia. Dostęp 16:20, listopad 23, 2018,  \n",
    "Dostępny w Internecie: http://pl.wikipedia.org/w/index.php?title=Rozk%C5%82ad_Poissona&oldid=55076364 \n",
    "\n",
    "[2]: Klink, J. (2011). Inżynieria ruchu (telekomunikacyjnego) [Slajdy PDF].  \n",
    "Dostępny w Internecie: https://pst.pwr.edu.pl/moodle/course/view.php?id=82\n",
    "\n",
    "[3]: Kaliszan, A. Głąbowski, M. (2006). Symulator wiązki pełnodostępnej obsługującej zintegrowane nie-poissonowskie strumienie zgłoszeń [PDF]. Dostępny w Internecie: http://www.pwt.et.put.poznan.pl/srv/papers/PWT%202006_3658.pdf"
   ]
  }
 ],
 "metadata": {
  "kernelspec": {
   "display_name": "Python 3",
   "language": "python",
   "name": "python3"
  },
  "language_info": {
   "codemirror_mode": {
    "name": "ipython",
    "version": 3
   },
   "file_extension": ".py",
   "mimetype": "text/x-python",
   "name": "python",
   "nbconvert_exporter": "python",
   "pygments_lexer": "ipython3",
   "version": "3.6.7"
  }
 },
 "nbformat": 4,
 "nbformat_minor": 2
}
